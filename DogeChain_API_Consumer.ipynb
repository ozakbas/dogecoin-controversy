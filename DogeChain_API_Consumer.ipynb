{
  "nbformat": 4,
  "nbformat_minor": 0,
  "metadata": {
    "colab": {
      "name": "DogeChain-API-Consumer.ipynb",
      "provenance": [],
      "authorship_tag": "ABX9TyMliwd8F5GOJUXBymV7Uukt",
      "include_colab_link": true
    },
    "kernelspec": {
      "name": "python3",
      "display_name": "Python 3"
    },
    "language_info": {
      "name": "python"
    }
  },
  "cells": [
    {
      "cell_type": "markdown",
      "metadata": {
        "id": "view-in-github",
        "colab_type": "text"
      },
      "source": [
        "<a href=\"https://colab.research.google.com/github/ozakbas/dogecoin-controversy/blob/main/DogeChain_API_Consumer.ipynb\" target=\"_parent\"><img src=\"https://colab.research.google.com/assets/colab-badge.svg\" alt=\"Open In Colab\"/></a>"
      ]
    },
    {
      "cell_type": "code",
      "metadata": {
        "colab": {
          "base_uri": "https://localhost:8080/",
          "height": 17
        },
        "id": "MqWeX0tu5jf2",
        "outputId": "f10ebac6-58eb-4ae9-d84b-37df1e87fea7"
      },
      "source": [
        "import requests\n",
        "import json\n",
        "from google.colab import files\n",
        "\n",
        "\n",
        "def downloadJSON(blocks, start, end):\n",
        "  x = json.dumps(blocks)\n",
        "  filename = '{}-{}.json'.format(start, end)\n",
        "  with open(filename, 'w') as f:\n",
        "    f.write(x)\n",
        "\n",
        "  files.download(filename)\n",
        "\n",
        "\n",
        "def getBlocksWithInterval(start, end):\n",
        "\n",
        "  blocks = []\n",
        "\n",
        "  for i in range(start,end+1):\n",
        "    url = \"https://dogechain.info/api/v1/block/{}\".format(i)\n",
        "    response = requests.get(url)\n",
        "    block = response.json()\n",
        "    blocks.append(block)\n",
        "\n",
        "  return blocks\n",
        "\n",
        "\n",
        "start = 3000000\n",
        "end = 3000050\n",
        "blocks = getBlocksWithInterval(start, end)\n",
        "downloadJSON(blocks, start, end)"
      ],
      "execution_count": 1,
      "outputs": [
        {
          "output_type": "display_data",
          "data": {
            "application/javascript": [
              "\n",
              "    async function download(id, filename, size) {\n",
              "      if (!google.colab.kernel.accessAllowed) {\n",
              "        return;\n",
              "      }\n",
              "      const div = document.createElement('div');\n",
              "      const label = document.createElement('label');\n",
              "      label.textContent = `Downloading \"${filename}\": `;\n",
              "      div.appendChild(label);\n",
              "      const progress = document.createElement('progress');\n",
              "      progress.max = size;\n",
              "      div.appendChild(progress);\n",
              "      document.body.appendChild(div);\n",
              "\n",
              "      const buffers = [];\n",
              "      let downloaded = 0;\n",
              "\n",
              "      const channel = await google.colab.kernel.comms.open(id);\n",
              "      // Send a message to notify the kernel that we're ready.\n",
              "      channel.send({})\n",
              "\n",
              "      for await (const message of channel.messages) {\n",
              "        // Send a message to notify the kernel that we're ready.\n",
              "        channel.send({})\n",
              "        if (message.buffers) {\n",
              "          for (const buffer of message.buffers) {\n",
              "            buffers.push(buffer);\n",
              "            downloaded += buffer.byteLength;\n",
              "            progress.value = downloaded;\n",
              "          }\n",
              "        }\n",
              "      }\n",
              "      const blob = new Blob(buffers, {type: 'application/binary'});\n",
              "      const a = document.createElement('a');\n",
              "      a.href = window.URL.createObjectURL(blob);\n",
              "      a.download = filename;\n",
              "      div.appendChild(a);\n",
              "      a.click();\n",
              "      div.remove();\n",
              "    }\n",
              "  "
            ],
            "text/plain": [
              "<IPython.core.display.Javascript object>"
            ]
          },
          "metadata": {
            "tags": []
          }
        },
        {
          "output_type": "display_data",
          "data": {
            "application/javascript": [
              "download(\"download_0433df19-992c-40e9-9fe2-3539ac9d5706\", \"3000000-3000050.json\", 98299)"
            ],
            "text/plain": [
              "<IPython.core.display.Javascript object>"
            ]
          },
          "metadata": {
            "tags": []
          }
        }
      ]
    },
    {
      "cell_type": "code",
      "metadata": {
        "id": "yy1r464S1YRl"
      },
      "source": [
        "# threading\n",
        "\n",
        "# transactions"
      ],
      "execution_count": null,
      "outputs": []
    }
  ]
}